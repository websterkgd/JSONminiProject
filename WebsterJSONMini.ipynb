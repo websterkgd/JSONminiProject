{
 "cells": [
  {
   "cell_type": "code",
   "execution_count": 1,
   "metadata": {},
   "outputs": [],
   "source": [
    "#import packages for data analysis \n",
    "import pandas as pd\n",
    "import json\n",
    "import os "
   ]
  },
  {
   "cell_type": "code",
   "execution_count": 2,
   "metadata": {},
   "outputs": [],
   "source": [
    "#import the data\n",
    "with open('world_bank_projects.json') as file:\n",
    "    WB = json.load(file)"
   ]
  },
  {
   "cell_type": "code",
   "execution_count": 3,
   "metadata": {},
   "outputs": [],
   "source": [
    "#transform the data to a dataframe\n",
    "countries = pd.DataFrame(WB, columns=['countryname'])"
   ]
  },
  {
   "cell_type": "code",
   "execution_count": 4,
   "metadata": {},
   "outputs": [],
   "source": [
    "#count the entries\n",
    "cc = countries.countryname.value_counts()"
   ]
  },
  {
   "cell_type": "code",
   "execution_count": 5,
   "metadata": {},
   "outputs": [
    {
     "name": "stdout",
     "output_type": "stream",
     "text": [
      "Republic of Indonesia              19\n",
      "People's Republic of China         19\n",
      "Socialist Republic of Vietnam      17\n",
      "Republic of India                  16\n",
      "Republic of Yemen                  13\n",
      "Nepal                              12\n",
      "Kingdom of Morocco                 12\n",
      "People's Republic of Bangladesh    12\n",
      "Republic of Mozambique             11\n",
      "Africa                             11\n",
      "Name: countryname, dtype: int64\n"
     ]
    }
   ],
   "source": [
    "#Find the 10 countries with the most projects\n",
    "t10_cc = cc.head(10)\n",
    "print(t10_cc)"
   ]
  },
  {
   "cell_type": "code",
   "execution_count": 6,
   "metadata": {},
   "outputs": [],
   "source": [
    "#rename index \n",
    "t10_ni =[]\n",
    "for c in t10_cc.index:\n",
    "    t10_ni.append(c.split()[-1])\n",
    "    \n",
    "t10_cc.index = t10_ni"
   ]
  },
  {
   "cell_type": "code",
   "execution_count": 7,
   "metadata": {},
   "outputs": [],
   "source": [
    "#import matplotlib and numpy for plotting\n",
    "import matplotlib.pyplot as plt\n",
    "import numpy as np "
   ]
  },
  {
   "cell_type": "code",
   "execution_count": 8,
   "metadata": {},
   "outputs": [
    {
     "data": {
      "image/png": "[encoded data removed]",
      "text/plain": [
       "<Figure size 432x288 with 1 Axes>"
      ]
     },
     "metadata": {
      "needs_background": "light"
     },
     "output_type": "display_data"
    }
   ],
   "source": [
    "#create a barplot of the data\n",
    "t10_cc.plot(kind='bar')\n",
    "plt.xticks(rotation=60) \n",
    "plt.ylabel('Number of Projects')\n",
    "plt.ylim(0,20)\n",
    "plt.yticks(np.arange(0, 22, step=2))\n",
    "plt.title('World Bank Projects by Country')\n",
    "plt.show()"
   ]
  },
  {
   "cell_type": "code",
   "execution_count": 9,
   "metadata": {},
   "outputs": [],
   "source": [
    "## 2. Find the 10 major project themes\n",
    "countries['themes'] = pd.DataFrame(WB, columns=['mjtheme_namecode'])"
   ]
  },
  {
   "cell_type": "code",
   "execution_count": 10,
   "metadata": {},
   "outputs": [],
   "source": [
    "#count the themes\n",
    "tc = countries.themes.value_counts()"
   ]
  },
  {
   "cell_type": "code",
   "execution_count": 11,
   "metadata": {},
   "outputs": [
    {
     "name": "stdout",
     "output_type": "stream",
     "text": [
      "[{'code': '11', 'name': 'Environment and natural resources management'}, {'code': '11', 'name': 'Environment and natural resources management'}]                                                                                12\n",
      "[{'code': '8', 'name': 'Human development'}, {'code': '11', 'name': ''}]                                                                                                                                                        11\n",
      "[{'code': '8', 'name': 'Human development'}, {'code': '8', 'name': 'Human development'}]                                                                                                                                         8\n",
      "[{'code': '4', 'name': 'Financial and private sector development'}, {'code': '4', 'name': 'Financial and private sector development'}]                                                                                           6\n",
      "[{'code': '2', 'name': 'Public sector governance'}, {'code': '2', 'name': 'Public sector governance'}, {'code': '2', 'name': 'Public sector governance'}]                                                                        6\n",
      "[{'code': '8', 'name': 'Human development'}, {'code': '7', 'name': 'Social dev/gender/inclusion'}]                                                                                                                               5\n",
      "[{'code': '8', 'name': 'Human development'}, {'code': '8', 'name': 'Human development'}, {'code': '8', 'name': 'Human development'}, {'code': '8', 'name': 'Human development'}, {'code': '8', 'name': 'Human development'}]     5\n",
      "[{'code': '11', 'name': 'Environment and natural resources management'}, {'code': '11', 'name': ''}]                                                                                                                             5\n",
      "[{'code': '11', 'name': 'Environment and natural resources management'}, {'code': '4', 'name': ''}]                                                                                                                              5\n",
      "[{'code': '4', 'name': 'Financial and private sector development'}, {'code': '5', 'name': 'Trade and integration'}]                                                                                                              5\n",
      "Name: themes, dtype: int64\n"
     ]
    }
   ],
   "source": [
    "#find the top 10\n",
    "t10_tc = tc.head(10)\n",
    "print(t10_tc)"
   ]
  },
  {
   "cell_type": "code",
   "execution_count": 12,
   "metadata": {},
   "outputs": [],
   "source": [
    "# count individual themes\n",
    "#create list of individual themes\n",
    "pt = []\n",
    "for l in countries['themes']:\n",
    "    for d in l:\n",
    "        pt.append(d)"
   ]
  },
  {
   "cell_type": "code",
   "execution_count": 13,
   "metadata": {},
   "outputs": [],
   "source": [
    "#find the top 10\n",
    "pt = pd.Series(pt)\n",
    "pt = pt.value_counts()\n",
    "pt_t10 = pt.head(10)"
   ]
  },
  {
   "cell_type": "code",
   "execution_count": 14,
   "metadata": {},
   "outputs": [],
   "source": [
    "#rename index for top themes\n",
    "ptt10_ni =[]\n",
    "for c in pt_t10.index:\n",
    "    ptt10_ni.append('Code ' + str(c['code']))\n",
    "       \n",
    "pt_t10.index = ptt10_ni"
   ]
  },
  {
   "cell_type": "code",
   "execution_count": 15,
   "metadata": {},
   "outputs": [
    {
     "data": {
      "image/png": "[encoded data removed]",
      "text/plain": [
       "<Figure size 432x288 with 1 Axes>"
      ]
     },
     "metadata": {
      "needs_background": "light"
     },
     "output_type": "display_data"
    }
   ],
   "source": [
    "#plotting the top 10\n",
    "pt_t10.plot(kind='bar')\n",
    "plt.xticks(rotation=60) \n",
    "plt.ylabel('Theme Occurrence')\n",
    "plt.ylim(0,250)\n",
    "plt.yticks(np.arange(0, 250, step=20))\n",
    "plt.title('Top 10 World Bank Project Themes')\n",
    "plt.show()"
   ]
  },
  {
   "cell_type": "code",
   "execution_count": 16,
   "metadata": {},
   "outputs": [],
   "source": [
    "##3. Fill in the missing names\n",
    "#assign the column of interest to a series\n",
    "tbf1 = countries['themes']"
   ]
  },
  {
   "cell_type": "code",
   "execution_count": 17,
   "metadata": {},
   "outputs": [],
   "source": [
    "#an elegant coding solution\n",
    "#creates a list of all themes\n",
    "e = []\n",
    "for l in tbf1:\n",
    "    for d in l:\n",
    "        e.append(d)"
   ]
  },
  {
   "cell_type": "code",
   "execution_count": 18,
   "metadata": {},
   "outputs": [],
   "source": [
    "#eliminates duplicate themes\n",
    "e = [i for n, i in enumerate(e) if i not in e[n + 1:]]"
   ]
  },
  {
   "cell_type": "code",
   "execution_count": 19,
   "metadata": {},
   "outputs": [],
   "source": [
    "#eliminates the theme if the name is null\n",
    "r =[]\n",
    "for i in e: \n",
    "    if i['name'] == '': \n",
    "        r.append(i)\n",
    "\n",
    "for i in r:\n",
    "    if i in e:\n",
    "        e.remove(i)"
   ]
  },
  {
   "cell_type": "code",
   "execution_count": 20,
   "metadata": {},
   "outputs": [],
   "source": [
    "#sorts the resulting list by code #\n",
    "e = sorted(e, key = lambda i: (int(i['code'])))"
   ]
  },
  {
   "cell_type": "code",
   "execution_count": 21,
   "metadata": {},
   "outputs": [],
   "source": [
    "#counts the themes\n",
    "ptu = []\n",
    "for l in tbf1:\n",
    "    for d in l:\n",
    "        if d not in e:\n",
    "            d = e[int(d['code'])-1]\n",
    "        assert d['name'] != ''\n",
    "        ptu.append(d)"
   ]
  },
  {
   "cell_type": "code",
   "execution_count": 22,
   "metadata": {},
   "outputs": [],
   "source": [
    "#count the updated themes\n",
    "tcu = pd.Series(ptu).value_counts()"
   ]
  },
  {
   "cell_type": "code",
   "execution_count": 23,
   "metadata": {},
   "outputs": [
    {
     "name": "stdout",
     "output_type": "stream",
     "text": [
      "{'code': '11', 'name': 'Environment and natural resources management'}    250\n",
      "{'code': '10', 'name': 'Rural development'}                               216\n",
      "{'code': '8', 'name': 'Human development'}                                210\n",
      "{'code': '2', 'name': 'Public sector governance'}                         199\n",
      "{'code': '6', 'name': 'Social protection and risk management'}            168\n",
      "{'code': '4', 'name': 'Financial and private sector development'}         146\n",
      "{'code': '7', 'name': 'Social dev/gender/inclusion'}                      130\n",
      "{'code': '5', 'name': 'Trade and integration'}                             77\n",
      "{'code': '9', 'name': 'Urban development'}                                 50\n",
      "{'code': '1', 'name': 'Economic management'}                               38\n",
      "dtype: int64\n"
     ]
    }
   ],
   "source": [
    "#find the top 10\n",
    "t10_tcu = tcu.head(10)\n",
    "print(t10_tcu)"
   ]
  },
  {
   "cell_type": "code",
   "execution_count": 24,
   "metadata": {},
   "outputs": [],
   "source": [
    "#plot the top 10\n",
    "#rename index for top themes\n",
    "ptt10u_ni =[]\n",
    "for c in t10_tcu.index:\n",
    "    ptt10u_ni.append('Code ' + str(c['code']))\n",
    "       \n",
    "t10_tcu.index = ptt10u_ni"
   ]
  },
  {
   "cell_type": "code",
   "execution_count": 25,
   "metadata": {},
   "outputs": [
    {
     "data": {
      "image/png": "[encoded data removed]",
      "text/plain": [
       "<Figure size 432x288 with 1 Axes>"
      ]
     },
     "metadata": {
      "needs_background": "light"
     },
     "output_type": "display_data"
    }
   ],
   "source": [
    "#plotting the top 10\n",
    "t10_tcu.plot(kind='bar')\n",
    "plt.xticks(rotation=60) \n",
    "plt.ylabel('Theme Occurrence')\n",
    "plt.ylim(0,250)\n",
    "plt.yticks(np.arange(0, 300, step=40))\n",
    "plt.title('Updated Top 10 World Bank Project Themes')\n",
    "plt.show()"
   ]
  },
  {
   "cell_type": "code",
   "execution_count": 26,
   "metadata": {},
   "outputs": [],
   "source": [
    "#a brute force coding solution\n",
    "ptu = []\n",
    "for l in tbf1:\n",
    "    for d in l:\n",
    "        if d['code'] == '1':\n",
    "            d['name'] = 'Economic management'\n",
    "        elif d['code'] == '2':\n",
    "            d['name'] = 'Public sector governance'\n",
    "        elif d['code'] == '3':\n",
    "            d['name'] = 'Rule of law'\n",
    "        elif d['code'] == '4':\n",
    "            d['name'] = 'Financial and private sector development'\n",
    "        elif d['code'] == '5':\n",
    "            d['name'] = 'Trade and integration'\n",
    "        elif d['code'] == '6':\n",
    "            d['name'] = 'Social protection and risk management'\n",
    "        elif d['code'] == '7':\n",
    "            d['name'] = 'Social dev/gender/inclusion'\n",
    "        elif d['code'] == '8':\n",
    "            d['name'] = 'Human development'\n",
    "        elif d['code'] == '9':\n",
    "            d['name'] = 'Urban development'\n",
    "        elif d['code'] == '10':\n",
    "            d['name'] = 'Rural development'\n",
    "        elif d['code'] == '11':\n",
    "            d['name'] = 'Environment and natural resources'\n",
    "        assert d['name'] != ''\n",
    "        ptu.append(d)"
   ]
  },
  {
   "cell_type": "code",
   "execution_count": 27,
   "metadata": {},
   "outputs": [],
   "source": [
    "#count the updated themes\n",
    "tcu = pd.Series(ptu).value_counts()"
   ]
  },
  {
   "cell_type": "code",
   "execution_count": 28,
   "metadata": {},
   "outputs": [
    {
     "name": "stdout",
     "output_type": "stream",
     "text": [
      "{'code': '11', 'name': 'Environment and natural resources'}          250\n",
      "{'code': '10', 'name': 'Rural development'}                          216\n",
      "{'code': '8', 'name': 'Human development'}                           210\n",
      "{'code': '2', 'name': 'Public sector governance'}                    199\n",
      "{'code': '6', 'name': 'Social protection and risk management'}       168\n",
      "{'code': '4', 'name': 'Financial and private sector development'}    146\n",
      "{'code': '7', 'name': 'Social dev/gender/inclusion'}                 130\n",
      "{'code': '5', 'name': 'Trade and integration'}                        77\n",
      "{'code': '9', 'name': 'Urban development'}                            50\n",
      "{'code': '1', 'name': 'Economic management'}                          38\n",
      "dtype: int64\n"
     ]
    }
   ],
   "source": [
    "#find the top 10\n",
    "t10_tcu = tcu.head(10)\n",
    "print(t10_tcu)"
   ]
  },
  {
   "cell_type": "code",
   "execution_count": null,
   "metadata": {},
   "outputs": [],
   "source": []
  },
  {
   "cell_type": "code",
   "execution_count": null,
   "metadata": {},
   "outputs": [],
   "source": []
  },
  {
   "cell_type": "code",
   "execution_count": null,
   "metadata": {},
   "outputs": [],
   "source": []
  }
 ],
 "metadata": {
  "kernelspec": {
   "display_name": "Python 3",
   "language": "python",
   "name": "python3"
  },
  "language_info": {
   "codemirror_mode": {
    "name": "ipython",
    "version": 3
   },
   "file_extension": ".py",
   "mimetype": "text/x-python",
   "name": "python",
   "nbconvert_exporter": "python",
   "pygments_lexer": "ipython3",
   "version": "3.7.4"
  }
 },
 "nbformat": 4,
 "nbformat_minor": 2
}
